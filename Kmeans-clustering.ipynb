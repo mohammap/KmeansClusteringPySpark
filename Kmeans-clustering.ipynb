{
 "cells": [
  {
   "cell_type": "markdown",
   "metadata": {},
   "source": [
    "# Objective: Test the candidate ability to industrialize, no data science skills or clustering results would be assessed.\n",
    "##### Data: Static geographical information of CityBike‘s stations in Brisbane (“Brisbane_CityBike.json”)\n",
    "#### Instructions: Propose a code to perform a clustering based on either the location or characteristics of bike stations. Any clustering library can be used no assessment is done on the choice of the library. The data is a subset provided by the business.It should be developed as close as a real industrialized process. In production this code should be launched daily on 10 Go of data, the choice of the platform is up to you it can be run on a Spark cluster or Kubernetes Cluster or Azure function.\n",
    "##### Languages: Either Scala or Python (or C# if on Azure function).\n",
    "##### Deliveries: The delivery of this test should contain:\n",
    "##### •\tCode: A zip file containing all your code or a link to a repository\n",
    "##### •\tReadme: How the job is launched, and short description of your program\n",
    "##### •\tOutput: directory with the clustering result\n"
   ]
  },
  {
   "cell_type": "code",
   "execution_count": 4,
   "metadata": {},
   "outputs": [],
   "source": [
    "import pyspark\n",
    "pyspark\n",
    "import findspark\n",
    "findspark.init()\n",
    "from pyspark.sql import SparkSession\n",
    "from pyspark import SparkContext"
   ]
  },
  {
   "cell_type": "code",
   "execution_count": 5,
   "metadata": {},
   "outputs": [],
   "source": [
    "spark = SparkSession.builder.appName('TP_CLUSTERING').getOrCreate()"
   ]
  },
  {
   "cell_type": "code",
   "execution_count": 6,
   "metadata": {},
   "outputs": [
    {
     "data": {
      "text/html": [
       "\n",
       "            <div>\n",
       "                <p><b>SparkSession - in-memory</b></p>\n",
       "                \n",
       "        <div>\n",
       "            <p><b>SparkContext</b></p>\n",
       "\n",
       "            <p><a href=\"http://DESKTOP-3C412U3:4046\">Spark UI</a></p>\n",
       "\n",
       "            <dl>\n",
       "              <dt>Version</dt>\n",
       "                <dd><code>v3.0.1</code></dd>\n",
       "              <dt>Master</dt>\n",
       "                <dd><code>local[*]</code></dd>\n",
       "              <dt>AppName</dt>\n",
       "                <dd><code>TP_CLUSTERING</code></dd>\n",
       "            </dl>\n",
       "        </div>\n",
       "        \n",
       "            </div>\n",
       "        "
      ],
      "text/plain": [
       "<pyspark.sql.session.SparkSession at 0x2b39e053cd0>"
      ]
     },
     "execution_count": 6,
     "metadata": {},
     "output_type": "execute_result"
    }
   ],
   "source": [
    "spark"
   ]
  },
  {
   "cell_type": "code",
   "execution_count": 11,
   "metadata": {},
   "outputs": [
    {
     "name": "stdout",
     "output_type": "stream",
     "text": [
      "root\n",
      " |-- address: string (nullable = true)\n",
      " |-- latitude: double (nullable = true)\n",
      " |-- longitude: double (nullable = true)\n",
      " |-- name: string (nullable = true)\n",
      " |-- number: long (nullable = true)\n",
      "\n"
     ]
    }
   ],
   "source": [
    "# A JSON dataset is pointed to by path.\n",
    "# The path can be either a single text file or a directory storing text files\n",
    "path = \"/Users/Utilisateur/Desktop/PySpark/second_week/TPsecondweek/CityBike.json\"\n",
    "bikemap = spark.read.json(path)\n",
    "\n",
    "# The inferred schema can be visualized using the printSchema() method\n",
    "bikemap.printSchema()"
   ]
  },
  {
   "cell_type": "code",
   "execution_count": 14,
   "metadata": {},
   "outputs": [
    {
     "data": {
      "text/plain": [
       "[Row(address='Lower River Tce / Ellis St', latitude=-27.482279, longitude=153.028723, name='122 - LOWER RIVER TCE / ELLIS ST', number=122),\n",
       " Row(address='Main St / Darragh St', latitude=-27.47059, longitude=153.036046, name='91 - MAIN ST / DARRAGH ST', number=91),\n",
       " Row(address='Sydney St Ferry Terminal / Park', latitude=-27.474531, longitude=153.042728, name='88 - SYDNEY ST FERRY TERMINAL / PARK', number=88),\n",
       " Row(address='Browne St / James St', latitude=-27.461881, longitude=153.046986, name='75 - BROWNE ST / JAMES ST', number=75),\n",
       " Row(address='Kurilpa Point / Montague Rd', latitude=-27.469658, longitude=153.016696, name='98 - KURILPA POINT / MONTAGUE RD', number=98),\n",
       " Row(address='Montague Rd / Skinner St', latitude=-27.48172, longitude=153.00436, name='109 - MONTAGUE RD / SKINNER ST', number=109),\n",
       " Row(address='Macquarie St / Guyatt Park', latitude=-27.493626, longitude=153.001482, name='149 - MACQUARIE ST / GUYATT PARK', number=149),\n",
       " Row(address='Bi-centennial Bike Way / Lang Pde', latitude=-27.476076, longitude=153.002459, name='139 - BI-CENTENNIAL BIKE WAY / LANG PDE', number=139),\n",
       " Row(address='Sir William McGregor Dr / Sir Fred Schonnell', latitude=-27.493963, longitude=153.011938, name='24 - SIR WILLIAM MCGREGOR DR / SIR FRED SCHONNELL', number=24),\n",
       " Row(address='Vulture St / Tribune St', latitude=-27.482197, longitude=153.020894, name='117 - VULTURE ST / TRIBUNE ST', number=117),\n",
       " Row(address='Lamington St / Refinery Pde', latitude=-27.465226, longitude=153.050864, name='73 - LAMINGTON ST / REFINERY PDE', number=73),\n",
       " Row(address='King George Square 2', latitude=-27.468447, longitude=153.024662, name='1101 - KING GEORGE SQUARE 2', number=1101),\n",
       " Row(address='Mary St / George St', latitude=-27.473021, longitude=153.025988, name='23 - MARY STREET / GEORGE STREET', number=23),\n",
       " Row(address='McLachlan St / Winn St', latitude=-27.457825, longitude=153.036866, name='54 - MCLACHLAN ST / WINN ST', number=54),\n",
       " Row(address='Grey St / QCA', latitude=-27.48148, longitude=153.02368, name='93 - GREY ST / QCA', number=93),\n",
       " Row(address='Roma St / Turbot St', latitude=-27.467464, longitude=153.022094, name='31 - ROMA ST / TURBOT ST', number=31),\n",
       " Row(address='Thynne Rd / College Rd', latitude=-27.499963, longitude=153.017633, name='97 - THYNNE RD / COLLEGE RD', number=97),\n",
       " Row(address='Sandford St / Brisbane St', latitude=-27.490776, longitude=152.994747, name='147 - SANDFORD ST / BRISBANE ST', number=147),\n",
       " Row(address='James St / Harcourt St', latitude=-27.458199, longitude=153.041688, name='77 - JAMES ST / HARCOURT ST', number=77),\n",
       " Row(address='Sidon St / Little Stanley St', latitude=-27.481808, longitude=153.025477, name='119 - SIDON ST / LITTLE STANLEY ST', number=119),\n",
       " Row(address='Commercial Rd / Teneriffe Ferry Terminal', latitude=-27.452027, longitude=153.04911, name='67 - COMMERCIAL RD / TENERIFFE FERRY TERMINAL', number=67),\n",
       " Row(address='Turbot St / Wickham Tce', latitude=-27.464628, longitude=153.026863, name='39 - TURBOT ST / WICKHAM TCE', number=39),\n",
       " Row(address='Alden St / Wickham St', latitude=-27.456085, longitude=153.03453, name='55 - ALDEN ST / WICKHAM ST', number=55),\n",
       " Row(address='Roma St / Makerston St', latitude=-27.46637, longitude=153.018506, name='35 - ROMA STREET / MAKERSTON STREET', number=35),\n",
       " Row(address='Macquarie St / Munro St', latitude=-27.492876, longitude=153.006071, name='150 - MACQUARIE ST / MUNRO ST', number=150),\n",
       " Row(address='Barker St / Brunswick St', latitude=-27.464681, longitude=153.042561, name='80 - BARKER ST / BRUNSWICK ST', number=80),\n",
       " Row(address='Malt St / Brunswick St', latitude=-27.461041, longitude=153.037902, name='78 - MALT ST / BRUNSWICK ST', number=78),\n",
       " Row(address='Chermside St / Commercial Rd', latitude=-27.454482, longitude=153.046802, name='65 - CHERMSIDE ST / COMMERCIAL RD', number=65),\n",
       " Row(address='Queen St / Adelaide St', latitude=-27.463405, longitude=153.031142, name='44 - QUEEN STREET / ADELAIDE STREET', number=44),\n",
       " Row(address='Constance St / St Pauls Tce', latitude=-27.453717, longitude=153.034042, name='56 - CONSTANCE ST / ST PAULS TCE', number=56),\n",
       " Row(address='Gipps St / Wickham St', latitude=-27.458641, longitude=153.03208, name='50 - GIPPS ST / WICKHAM ST', number=50),\n",
       " Row(address='Stanley St / Melbourne St', latitude=-27.475039, longitude=153.020323, name='95 - STANLEY ST / MELBOURNE ST', number=95),\n",
       " Row(address='Coronation Dr / Go Between Bridge', latitude=-27.468839, longitude=153.011115, name='133 - CORONATION DR / GO BETWEEN BRIDGE', number=133),\n",
       " Row(address='Vernon Tce / Ethel St', latitude=-27.454394, longitude=153.049519, name='68 - VERNON TCE / ETHEL ST', number=68),\n",
       " Row(address='Railway Tce / Cribb St', latitude=-27.468845, longitude=153.007364, name='134 - RAILWAY TCE / CRIBB ST', number=134),\n",
       " Row(address='Brunswick St Mall / Wickham St', latitude=-27.457512, longitude=153.033841, name='52 - BRUNSWICK ST MALL / WICKHAM ST', number=52),\n",
       " Row(address='Turbot St / Barry Pde', latitude=-27.46123, longitude=153.031077, name='47 - TURBOT ST / BARRY PDE', number=47),\n",
       " Row(address='Dunmore Tce / Kingsford St', latitude=-27.476003, longitude=153.000676, name='140 - DUNMORE TCE / KINGSFORD ST', number=140),\n",
       " Row(address='Mary St / Albert St', latitude=-27.472044, longitude=153.027193, name='16 - MARY STREET / ALBERT STREET', number=16),\n",
       " Row(address='James St / McLachlan St', latitude=-27.456276, longitude=153.039196, name='59 - JAMES ST / MCLACHLAN ST', number=59),\n",
       " Row(address='Little Stanley St / Tribune St', latitude=-27.480385, longitude=153.023564, name='18 - LITTLE STANLEY ST / TRIBUNE ST', number=18),\n",
       " Row(address='Queen St / Wharf St', latitude=-27.465043, longitude=153.030991, name='43 - QUEEN ST / WHARF ST', number=43),\n",
       " Row(address='Charlotte St / Edward St', latitude=-27.469924, longitude=153.02822, name='9 - CHARLOTTE STREET / EDWARD STREET', number=9),\n",
       " Row(address='Market St / Mary St', latitude=-27.469702, longitude=153.029828, name='5 - MARKET STREET / MARY STREET', number=5),\n",
       " Row(address='Charlotte St / Eagle St', latitude=-27.468675, longitude=153.029834, name='4 - CHARLOTTE STREET / EAGLE STREET', number=4),\n",
       " Row(address='King George Square / Ann St', latitude=-27.468422, longitude=153.024635, name='11 - KING GEORGE SQUARE / ANN ST', number=11),\n",
       " Row(address='Oxlade Dr / Turner Ave', latitude=-27.473304, longitude=153.048757, name='85 - OXLADE DR / TURNER AVE', number=85),\n",
       " Row(address='Roy St / Lang Pde', latitude=-27.473888, longitude=153.000599, name='138 - ROY ST / LANG PDE', number=138),\n",
       " Row(address='Regatta Ferry Terminal / Sylvan Rd', latitude=-27.483168, longitude=152.996419, name='143 - REGATTA FERRY TERMINAL / SYLVAN RD', number=143),\n",
       " Row(address='Lamington St / Powerhouse', latitude=-27.467802, longitude=153.053645, name='72 - LAMINGTON ST / POWERHOUSE', number=72),\n",
       " Row(address='Coronation Dr / Archer St', latitude=-27.485872, longitude=152.99347, name='145 - CORONATION DR / ARCHER ST', number=145),\n",
       " Row(address='VULTURE ST / STANLEY ST', latitude=-27.483259, longitude=153.026946, name='121 - VULTURE ST / STANLEY ST', number=121),\n",
       " Row(address='Ann St / Creek St', latitude=-27.464986, longitude=153.027679, name='40 - ANN STREET / CREEK STREET', number=40),\n",
       " Row(address='Blair Dr / Sir William McGregor Dr', latitude=-27.494561, longitude=153.016318, name='27 - BLAIR DR / SIR WILLIAM MACGREGOR DR', number=27),\n",
       " Row(address='Park Rd / Douglas St', latitude=-27.470987, longitude=153.004602, name='136 - PARK RD / DOUGLAS ST', number=136),\n",
       " Row(address='Ann St / Gipps St', latitude=-27.459833, longitude=153.033445, name='49 - ANN STREET / GIPPS STREET', number=49),\n",
       " Row(address='Botanical Gardens / QUT', latitude=-27.475922, longitude=153.0288, name='21 - BOTANICAL GARDENS / QUT', number=21),\n",
       " Row(address='George St / Ann St', latitude=-27.469075, longitude=153.021808, name='29 - GEORGE STREET / ANN STREET', number=29),\n",
       " Row(address='Ann St / Murri Way', latitude=-27.452468, longitude=153.040565, name='63 - ANN ST / MURRI WAY', number=63),\n",
       " Row(address='North Quay /Reddacliff Place', latitude=-27.471297, longitude=153.02257, name='26 - NORTH QUAY / REDDACLIFF PLACE', number=26),\n",
       " Row(address='Brunswick St / Merthyr Rd', latitude=-27.467498, longitude=153.0467, name='82 - BRUNSWICK ST / MERTHYR RD', number=82),\n",
       " Row(address='Merthyr Rd / James St', latitude=-27.463678, longitude=153.049485, name='74 - MERTHYR RD / JAMES ST', number=74),\n",
       " Row(address='Albert St Mall / Elizabeth St', latitude=-27.47019, longitude=153.025852, name='15 - ALBERT STREET MALL / ELIZABETH STREET', number=15),\n",
       " Row(address='Land St / Coronation Dr', latitude=-27.479453, longitude=152.997215, name='141 - LAND ST / CORONATION DR', number=141),\n",
       " Row(address=\"O'Connell St / Lambert St\", latitude=-27.474992, longitude=153.037647, name=\"130 - O'CONNELL ST / LAMBERT ST\", number=130),\n",
       " Row(address='Ann St / Gotha St', latitude=-27.46048, longitude=153.032768, name='48 - ANN ST / GOTHA ST', number=48),\n",
       " Row(address='Bowen Tce / Bradfield Hwy', latitude=-27.461803, longitude=153.036021, name='53 - BOWEN TCE / BRADFIELD HWY', number=53),\n",
       " Row(address='Annerley Rd / Boggo Rd', latitude=-27.494959, longitude=153.02802, name='125 - ANNERLEY RD / BOGGO RD', number=125),\n",
       " Row(address='Macquarie St / Beeston St', latitude=-27.459091, longitude=153.050239, name='70 - MACQUARIE ST / BEESTON ST', number=70),\n",
       " Row(address='Merthyr Rd / Reginald St', latitude=-27.469931, longitude=153.043525, name='87 - MERTHYR RD / REGINALD ST', number=87),\n",
       " Row(address='Albert St Mall / Adelaide St', latitude=-27.468963, longitude=153.02461, name='12 - ALBERT ST MALL / ADELAIDE ST', number=12),\n",
       " Row(address='Vernon Tce / Florence St', latitude=-27.455907, longitude=153.050013, name='69 - VERNON TCE / FLORENCE ST', number=69),\n",
       " Row(address='Edmondstone St / Vulture St', latitude=-27.480164, longitude=153.016181, name='113 - EDMONDSTONE ST / VULTURE ST', number=113),\n",
       " Row(address='Bank St / Mollison St', latitude=-27.476724, longitude=153.010063, name='112 - BANK ST / MOLLISON ST', number=112),\n",
       " Row(address='Gladstone Rd / Annerley Rd', latitude=-27.497934, longitude=153.027333, name='127 - GLADSTONE RD / ANNERLEY RD', number=127),\n",
       " Row(address='Jane St / Montague Rd', latitude=-27.478214, longitude=153.006181, name='110 - JANE ST / MONTAGUE RD', number=110),\n",
       " Row(address='Main St / Rotherham St (Mahoney Park)', latitude=-27.469296, longitude=153.035533, name='90 - MAIN ST / ROTHERHAM ST (MAHONEY PARK)', number=90),\n",
       " Row(address='Little Cribb St / Boomerang St', latitude=-27.467971, longitude=153.009968, name='132 - LITTLE CRIBB ST / BOOMERANG ST', number=132),\n",
       " Row(address='Grey St / Melbourne St', latitude=-27.474722, longitude=153.018694, name='96 - GREY ST / MELBOURNE ST', number=96),\n",
       " Row(address='Queen St / Eagle St', latitude=-27.466369, longitude=153.029597, name='2 - QUEEN ST / EAGLE ST', number=2),\n",
       " Row(address='Ann St / Chester St', latitude=-27.453195, longitude=153.0401, name='62 - ANN ST / CHESTER ST', number=62),\n",
       " Row(address='Charlotte St / Albert St', latitude=-27.471315, longitude=153.026627, name='123 - CHARLOTTE ST / ALBERT ST', number=123),\n",
       " Row(address='Vulture St / Thomas St', latitude=-27.480768, longitude=153.011121, name='103 - VULTURE ST / THOMAS ST', number=103),\n",
       " Row(address='George St / Adelaide St', latitude=-27.469902, longitude=153.022603, name='28 - GEORGE ST / ADELAIDE ST', number=28),\n",
       " Row(address='Wickham St / Brookes St', latitude=-27.453127, longitude=153.037559, name='60 - WICKHAM STREET / BROOKES STREET', number=60),\n",
       " Row(address='Annerley Rd / Grove St', latitude=-27.491284, longitude=153.027138, name='124 - ANNERLEY ROAD / GROVE ST', number=124),\n",
       " Row(address='Reddacliff Pl / Queen St', latitude=-27.471332, longitude=153.022991, name='25 - REDDACLIFF PL / QUEEN ST', number=25),\n",
       " Row(address='Colchester St / Ernest St', latitude=-27.479876, longitude=153.021076, name='114 - COLCHESTER ST / ERNEST ST', number=114),\n",
       " Row(address='WATERLOO ST (GASWORKS PARK) / NEWSTEAD TCE', latitude=-27.448074, longitude=153.045762, name='76 - WATERLOO ST (GASWORKS PARK) / NEWSTEAD TCE', number=76),\n",
       " Row(address='Montague Rd / Brereton St', latitude=-27.474227, longitude=153.011164, name='115 - MONTAGUE RD / BRERETON ST', number=115),\n",
       " Row(address='Roma St / Ann St', latitude=-27.467963, longitude=153.0231, name='30 - ROMA ST / ANN ST', number=30),\n",
       " Row(address='Skyring Tce / Cunningham St', latitude=-27.44979, longitude=153.044925, name='64 - SKYRING TCE / CUNNINGHAM ST', number=64),\n",
       " Row(address='Thornton St Ferry Terminal / Main St', latitude=-27.471025, longitude=153.034306, name='92 - THORNTON ST FERRY TERMINAL / MAIN ST', number=92),\n",
       " Row(address='Melbourne St / Merivale St', latitude=-27.474755, longitude=153.016687, name='118 - MELBOURNE ST / MERIVALE ST', number=118),\n",
       " Row(address='Hastings St / Macquarie St', latitude=-27.460914, longitude=153.04987, name='71 - HASTINGS ST / MACQUARIE ST', number=71),\n",
       " Row(address='Park Rd / Railway Tce', latitude=-27.469501, longitude=153.004129, name='135 - PARK RD / RAILWAY TCE', number=135),\n",
       " Row(address='Rogers St / Montague Rd', latitude=-27.485078, longitude=153.002382, name='108 - ROGERS ST / MONTAGUE RD', number=108),\n",
       " Row(address='Donkin St / Montague Rd', latitude=-27.476474, longitude=153.008182, name='111 - DONKIN ST / MONTAGUE RD', number=111),\n",
       " Row(address='Ann St / Boundary St', latitude=-27.461984, longitude=153.031782, name='46 - ANN ST / BOUNDARY ST', number=46),\n",
       " Row(address='Margaret St / Albert St', latitude=-27.472598, longitude=153.028383, name='17 - MARGARET ST / ALBERT ST', number=17),\n",
       " Row(address='Drury St / Montague Rd', latitude=-27.48872, longitude=152.999585, name='107 - DRURY ST / MONTAGUE RD', number=107),\n",
       " Row(address='Creek St / Elizabeth St', latitude=-27.467556, longitude=153.029202, name='3 - CREEK ST / ELIZABETH ST', number=3),\n",
       " Row(address='Holman St / Main St', latitude=-27.465733, longitude=153.034329, name='89 - HOLMAN ST / MAIN ST', number=89),\n",
       " Row(address='Roma St / Herschel St', latitude=-27.466753, longitude=153.020012, name='33 - ROMA ST / HERSCHEL ST', number=33),\n",
       " Row(address='Upper Roma St / Eagle Tce', latitude=-27.466032, longitude=153.01476, name='37 - UPPER ROMA ST / EAGLE TCE', number=37),\n",
       " Row(address='Boundary St / Vulture St', latitude=-27.482562, longitude=153.011831, name='120 - BOUNDARY ST / VULTURE ST', number=120),\n",
       " Row(address='Sydney St / Brunswick St', latitude=-27.468407, longitude=153.048273, name='83 - SYDNEY ST / BRUNSWICK ST', number=83),\n",
       " Row(address='Gardens Point Rd / SE of Goodwill Bridge', latitude=-27.478846, longitude=153.028296, name='20 - GARDENS POINT RD / SE OF GOODWILL BRIDGE', number=20),\n",
       " Row(address='New Farm Ferry Terminal / New Farm Park', latitude=-27.471481, longitude=153.051966, name='84 - NEW FARM FERRY TERMINAL / NEW FARM PARK', number=84),\n",
       " Row(address='Lower River Tce / Parklands', latitude=-27.478032, longitude=153.034186, name='129 - LOWER RIVER TCE / PARKLANDS', number=129),\n",
       " Row(address='Jane St / Boundary St', latitude=-27.479149, longitude=153.012132, name='126 - JANE ST / BOUNDARY ST', number=126),\n",
       " Row(address='Dornoch Tce / Hardgrave Rd', latitude=-27.487155, longitude=153.007281, name='105 - DORNOCH TCE / HARDGRAVE RD', number=105),\n",
       " Row(address='Besant St / Vulture St', latitude=-27.480885, longitude=153.014585, name='102 - BESANT ST / VULTURE ST', number=102),\n",
       " Row(address='Margaret St / Edward St', latitude=-27.47148, longitude=153.029647, name='7 - MARGARET STREET / EDWARD STREET', number=7),\n",
       " Row(address='Glenelg St / Merivale St', latitude=-27.478653, longitude=153.019123, name='94 - GLENELG ST / MERIVALE ST', number=94),\n",
       " Row(address='Orleigh St / Hoogley St', latitude=-27.489807, longitude=153.002405, name='106 - ORLEIGH ST / HOOGLEY ST', number=106),\n",
       " Row(address='Melbourne St /  Edmondstone St', latitude=-27.47666, longitude=153.013287, name='100 - MELBOURNE ST / EDMONDSTONE ST', number=100),\n",
       " Row(address='Wickham St / Murri Way', latitude=-27.451793, longitude=153.039562, name='61 - WICKHAM ST / MURRI WAY', number=61),\n",
       " Row(address='Brunswick St / Alfred St', latitude=-27.45663, longitude=153.032779, name='51 - BRUNSWICK ST / ALFRED ST', number=51),\n",
       " Row(address='Commercial Rd / Skyring Tce', latitude=-27.45296, longitude=153.048107, name='66 - COMMERCIAL RD / SKYRING TCE', number=66),\n",
       " Row(address='Jephson St / Sherwood Rd', latitude=-27.485075, longitude=152.990627, name='144 - JEPHSON ST / SHERWOOD RD', number=144),\n",
       " Row(address='Sandford St / Austral St', latitude=-27.492489, longitude=152.996768, name='148 - SANDFORD ST / AUSTRAL ST', number=148),\n",
       " Row(address='Brisbane St / Glen Rd', latitude=-27.487187, longitude=152.993052, name='146 - BRISBANE ST / GLEN RD', number=146),\n",
       " Row(address='Wharf St / Adelaide St', latitude=-27.464647, longitude=153.029361, name='42 - WHARF STREET / ADELAIDE STREET', number=42),\n",
       " Row(address='Edward St / Queen St', latitude=-27.468206, longitude=153.026744, name='10 - EDWARD STREET / QUEEN STREET', number=10),\n",
       " Row(address='Gardens Point Rd / Adj. Bridge', latitude=-27.479004, longitude=153.028853, name='19 - GARDENS POINT ROAD / ADJ. BRIDGE', number=19),\n",
       " Row(address='Alice St / Edward St', latitude=-27.472291, longitude=153.030639, name='6 - ALICE STREET / EDWARD STREET', number=6),\n",
       " Row(address='Sylvan Rd / Coronation Dr', latitude=-27.482081, longitude=152.995804, name='142 - SYLVAN RD / CORONATION DR', number=142),\n",
       " Row(address='Russell St / Edmondstone St', latitude=-27.478235, longitude=153.015173, name='101 - RUSSELL ST / EDMONDSTONE ST', number=101),\n",
       " Row(address='Shafston Ave / Thorn St', latitude=-27.476792, longitude=153.039186, name='131 - SHAFSTON AVE / THORN ST', number=131),\n",
       " Row(address='Cordelia St / Peel St', latitude=-27.474011, longitude=153.014541, name='99 - CORDELIA ST / PEEL ST', number=99),\n",
       " Row(address='East St / Ann St', latitude=-27.455472, longitude=153.037775, name='58 - EAST ST / ANN ST', number=58),\n",
       " Row(address='Bridge St / Wickham St', latitude=-27.454746, longitude=153.036154, name='57 - BRIDGE ST / WICKHAM ST', number=57),\n",
       " Row(address='Tank St / George St', latitude=-27.468678, longitude=153.019801, name='32 - TANK ST / GEORGE ST', number=32),\n",
       " Row(address='Sydney St / Moray St', latitude=-27.471422, longitude=153.04519, name='86 - SYDNEY ST / MORAY ST', number=86),\n",
       " Row(address='Ann St / Wharf St', latitude=-27.46383, longitude=153.029125, name='41 - ANN ST / WHARF ST', number=41),\n",
       " Row(address='Griffith St / Riverview Ct', latitude=-27.471886, longitude=153.041854, name='81 - GRIFFITH ST / RIVERVIEW CT', number=81),\n",
       " Row(address='Hardgrave Rd / Skinner St', latitude=-27.482082, longitude=153.006981, name='104 - HARDGRAVE RD / SKINNER ST', number=104),\n",
       " Row(address='Makerston St / Roma St', latitude=-27.467037, longitude=153.018471, name='34 - MAKERSTON ST / ROMA ST', number=34),\n",
       " Row(address='Bouquet St / Montague Rd', latitude=-27.471712, longitude=153.013188, name='128 - BOUQUET ST / MONTAGUE RD', number=128),\n",
       " Row(address='Albert St Mall / Adelaide St', latitude=-27.469183, longitude=153.024719, name='13 - ALBERT STREET MALL / ADELAIDE STREET', number=13),\n",
       " Row(address='Roma St / Garrick St', latitude=-27.466307, longitude=153.017351, name='36 - ROMA STREET / GARRICK STREET', number=36),\n",
       " Row(address='Kilroe St / Dorsey St', latitude=-27.472413, longitude=153.001803, name='137 - KILROE ST / DORSEY ST', number=137),\n",
       " Row(address='Balfour St / Brunswick St', latitude=-27.463431, longitude=153.041031, name='79 - BALFOUR ST / BRUNSWICK ST', number=79),\n",
       " Row(address='38 - Ann St / Creek St', latitude=-27.46588, longitude=153.026861, name='38 - ANN ST / CREEK ST', number=38),\n",
       " Row(address='Albert St Mall / Elizabeth St', latitude=-27.47011, longitude=153.025627, name='14 - ALBERT STREET MALL / ELIZABETH STREET', number=14),\n",
       " Row(address='Turbot St / Bowen St', latitude=-27.462665, longitude=153.029087, name='45 - TURBOT ST / BOWEN ST', number=45),\n",
       " Row(address='Edward St / Queen St', latitude=-27.46812, longitude=153.02682, name='1 - EDWARD ST / QUEEN ST', number=1),\n",
       " Row(address='Cordelia St / Ernest St', latitude=-27.481137, longitude=153.019284, name='116 - CORDELIA ST / ERNEST ST', number=116)]"
      ]
     },
     "execution_count": 14,
     "metadata": {},
     "output_type": "execute_result"
    }
   ],
   "source": [
    "bikemap.collect()"
   ]
  },
  {
   "cell_type": "code",
   "execution_count": 15,
   "metadata": {},
   "outputs": [
    {
     "name": "stdout",
     "output_type": "stream",
     "text": [
      "+--------------------+----------+----------+--------------------+------+\n",
      "|             address|  latitude| longitude|                name|number|\n",
      "+--------------------+----------+----------+--------------------+------+\n",
      "|Lower River Tce /...|-27.482279|153.028723|122 - LOWER RIVER...|   122|\n",
      "|Main St / Darragh St| -27.47059|153.036046|91 - MAIN ST / DA...|    91|\n",
      "|Sydney St Ferry T...|-27.474531|153.042728|88 - SYDNEY ST FE...|    88|\n",
      "|Browne St / James St|-27.461881|153.046986|75 - BROWNE ST / ...|    75|\n",
      "|Kurilpa Point / M...|-27.469658|153.016696|98 - KURILPA POIN...|    98|\n",
      "|Montague Rd / Ski...| -27.48172| 153.00436|109 - MONTAGUE RD...|   109|\n",
      "|Macquarie St / Gu...|-27.493626|153.001482|149 - MACQUARIE S...|   149|\n",
      "|Bi-centennial Bik...|-27.476076|153.002459|139 - BI-CENTENNI...|   139|\n",
      "|Sir William McGre...|-27.493963|153.011938|24 - SIR WILLIAM ...|    24|\n",
      "|Vulture St / Trib...|-27.482197|153.020894|117 - VULTURE ST ...|   117|\n",
      "+--------------------+----------+----------+--------------------+------+\n",
      "only showing top 10 rows\n",
      "\n"
     ]
    }
   ],
   "source": [
    "bikemap.show(10)"
   ]
  },
  {
   "cell_type": "code",
   "execution_count": 94,
   "metadata": {},
   "outputs": [
    {
     "data": {
      "text/plain": [
       "149"
      ]
     },
     "execution_count": 94,
     "metadata": {},
     "output_type": "execute_result"
    }
   ],
   "source": [
    "bikemap.count()"
   ]
  },
  {
   "cell_type": "code",
   "execution_count": 76,
   "metadata": {},
   "outputs": [
    {
     "data": {
      "text/plain": [
       "{'latitude': 0, 'longitude': 0, 'name': 0}"
      ]
     },
     "execution_count": 76,
     "metadata": {},
     "output_type": "execute_result"
    }
   ],
   "source": [
    "#verifying whether we have missing values or not\n",
    "from pyspark.sql.functions import isnan, when, count, col\n",
    "\n",
    "Dict_Null = {col:bikemap.filter(df[col].isNull()).count() for col in df.columns}\n",
    "Dict_Null"
   ]
  },
  {
   "cell_type": "code",
   "execution_count": 95,
   "metadata": {},
   "outputs": [
    {
     "name": "stdout",
     "output_type": "stream",
     "text": [
      "+--------------------+----------+----------+--------------------+------+\n",
      "|             address|  latitude| longitude|                name|number|\n",
      "+--------------------+----------+----------+--------------------+------+\n",
      "|O'Connell St / La...|-27.474992|153.037647|130 - O'CONNELL S...|   130|\n",
      "|Gardens Point Rd ...|-27.479004|153.028853|19 - GARDENS POIN...|    19|\n",
      "|Cordelia St / Pee...|-27.474011|153.014541|99 - CORDELIA ST ...|    99|\n",
      "|Albert St Mall / ...| -27.47019|153.025852|15 - ALBERT STREE...|    15|\n",
      "|   Ann St / Gipps St|-27.459833|153.033445|49 - ANN STREET /...|    49|\n",
      "|Rogers St / Monta...|-27.485078|153.002382|108 - ROGERS ST /...|   108|\n",
      "|WATERLOO ST (GASW...|-27.448074|153.045762|76 - WATERLOO ST ...|    76|\n",
      "|Orleigh St / Hoog...|-27.489807|153.002405|106 - ORLEIGH ST ...|   106|\n",
      "|VULTURE ST / STAN...|-27.483259|153.026946|121 - VULTURE ST ...|   121|\n",
      "|Sandford St / Aus...|-27.492489|152.996768|148 - SANDFORD ST...|   148|\n",
      "+--------------------+----------+----------+--------------------+------+\n",
      "only showing top 10 rows\n",
      "\n"
     ]
    }
   ],
   "source": [
    "#removing duplicate values\n",
    "num_duplicate = bikemap.dropDuplicates()\n",
    "num_duplicate.show(10)"
   ]
  },
  {
   "cell_type": "code",
   "execution_count": 98,
   "metadata": {},
   "outputs": [
    {
     "data": {
      "text/plain": [
       "149"
      ]
     },
     "execution_count": 98,
     "metadata": {},
     "output_type": "execute_result"
    }
   ],
   "source": [
    "num_duplicate.count()\n",
    "# we don't have duplicate values"
   ]
  },
  {
   "cell_type": "code",
   "execution_count": 99,
   "metadata": {},
   "outputs": [
    {
     "name": "stdout",
     "output_type": "stream",
     "text": [
      "+----------+----------+--------------------+\n",
      "|  latitude| longitude|                name|\n",
      "+----------+----------+--------------------+\n",
      "|-27.474992|153.037647|130 - O'CONNELL S...|\n",
      "|-27.479004|153.028853|19 - GARDENS POIN...|\n",
      "|-27.474011|153.014541|99 - CORDELIA ST ...|\n",
      "| -27.47019|153.025852|15 - ALBERT STREE...|\n",
      "|-27.459833|153.033445|49 - ANN STREET /...|\n",
      "|-27.485078|153.002382|108 - ROGERS ST /...|\n",
      "|-27.448074|153.045762|76 - WATERLOO ST ...|\n",
      "|-27.489807|153.002405|106 - ORLEIGH ST ...|\n",
      "|-27.483259|153.026946|121 - VULTURE ST ...|\n",
      "|-27.492489|152.996768|148 - SANDFORD ST...|\n",
      "|-27.480164|153.016181|113 - EDMONDSTONE...|\n",
      "|-27.468839|153.011115|133 - CORONATION ...|\n",
      "|-27.482081|152.995804|142 - SYLVAN RD /...|\n",
      "|-27.461803|153.036021|53 - BOWEN TCE / ...|\n",
      "|-27.469296|153.035533|90 - MAIN ST / RO...|\n",
      "|-27.493626|153.001482|149 - MACQUARIE S...|\n",
      "|-27.458641| 153.03208|50 - GIPPS ST / W...|\n",
      "|-27.466753|153.020012|33 - ROMA ST / HE...|\n",
      "|-27.468407|153.048273|83 - SYDNEY ST / ...|\n",
      "|-27.492876|153.006071|150 - MACQUARIE S...|\n",
      "+----------+----------+--------------------+\n",
      "only showing top 20 rows\n",
      "\n"
     ]
    }
   ],
   "source": [
    "#choosing 3 columns to decide which ones to use according to what is asked in TP\n",
    "df = num_duplicate.select('latitude','longitude','name')\n",
    "df.show()"
   ]
  },
  {
   "cell_type": "code",
   "execution_count": 82,
   "metadata": {},
   "outputs": [],
   "source": [
    "#Propose a code to perform a clustering based on the location: 'latitude', 'longitude' as features \n",
    "from pyspark.ml.feature import VectorAssembler\n",
    "\n",
    "vecAssembler = VectorAssembler(inputCols=[\"latitude\", \"longitude\"], outputCol=\"features\")\n",
    "new_df = vecAssembler.transform(df)"
   ]
  },
  {
   "cell_type": "code",
   "execution_count": 83,
   "metadata": {},
   "outputs": [
    {
     "name": "stdout",
     "output_type": "stream",
     "text": [
      "+----------+----------+--------------------+--------------------+\n",
      "|  latitude| longitude|                name|            features|\n",
      "+----------+----------+--------------------+--------------------+\n",
      "|-27.474992|153.037647|130 - O'CONNELL S...|[-27.474992,153.0...|\n",
      "|-27.479004|153.028853|19 - GARDENS POIN...|[-27.479004,153.0...|\n",
      "|-27.474011|153.014541|99 - CORDELIA ST ...|[-27.474011,153.0...|\n",
      "| -27.47019|153.025852|15 - ALBERT STREE...|[-27.47019,153.02...|\n",
      "|-27.459833|153.033445|49 - ANN STREET /...|[-27.459833,153.0...|\n",
      "|-27.485078|153.002382|108 - ROGERS ST /...|[-27.485078,153.0...|\n",
      "|-27.448074|153.045762|76 - WATERLOO ST ...|[-27.448074,153.0...|\n",
      "|-27.489807|153.002405|106 - ORLEIGH ST ...|[-27.489807,153.0...|\n",
      "|-27.483259|153.026946|121 - VULTURE ST ...|[-27.483259,153.0...|\n",
      "|-27.492489|152.996768|148 - SANDFORD ST...|[-27.492489,152.9...|\n",
      "|-27.480164|153.016181|113 - EDMONDSTONE...|[-27.480164,153.0...|\n",
      "|-27.468839|153.011115|133 - CORONATION ...|[-27.468839,153.0...|\n",
      "|-27.482081|152.995804|142 - SYLVAN RD /...|[-27.482081,152.9...|\n",
      "|-27.461803|153.036021|53 - BOWEN TCE / ...|[-27.461803,153.0...|\n",
      "|-27.469296|153.035533|90 - MAIN ST / RO...|[-27.469296,153.0...|\n",
      "|-27.493626|153.001482|149 - MACQUARIE S...|[-27.493626,153.0...|\n",
      "|-27.458641| 153.03208|50 - GIPPS ST / W...|[-27.458641,153.0...|\n",
      "|-27.466753|153.020012|33 - ROMA ST / HE...|[-27.466753,153.0...|\n",
      "|-27.468407|153.048273|83 - SYDNEY ST / ...|[-27.468407,153.0...|\n",
      "|-27.492876|153.006071|150 - MACQUARIE S...|[-27.492876,153.0...|\n",
      "+----------+----------+--------------------+--------------------+\n",
      "only showing top 20 rows\n",
      "\n"
     ]
    }
   ],
   "source": [
    "new_df.show()"
   ]
  },
  {
   "cell_type": "code",
   "execution_count": 102,
   "metadata": {},
   "outputs": [
    {
     "name": "stdout",
     "output_type": "stream",
     "text": [
      "root\n",
      " |-- latitude: double (nullable = true)\n",
      " |-- longitude: double (nullable = true)\n",
      " |-- name: string (nullable = true)\n",
      " |-- features: vector (nullable = true)\n",
      "\n"
     ]
    }
   ],
   "source": [
    "new_df.printSchema()"
   ]
  },
  {
   "cell_type": "code",
   "execution_count": 103,
   "metadata": {},
   "outputs": [
    {
     "data": {
      "text/plain": [
       "DataFrame[summary: string, latitude: string, longitude: string, name: string]"
      ]
     },
     "execution_count": 103,
     "metadata": {},
     "output_type": "execute_result"
    }
   ],
   "source": [
    "new_df.summary()"
   ]
  },
  {
   "cell_type": "code",
   "execution_count": 86,
   "metadata": {},
   "outputs": [],
   "source": [
    "#applying K-means clustering\n",
    "from pyspark.ml.clustering import KMeans\n",
    "\n",
    "kmeans = KMeans(k=2, seed=1)  \n",
    "model = kmeans.fit(new_df.select('features'))"
   ]
  },
  {
   "cell_type": "code",
   "execution_count": 87,
   "metadata": {},
   "outputs": [
    {
     "name": "stdout",
     "output_type": "stream",
     "text": [
      "+----------+----------+--------------------+--------------------+----------+\n",
      "|  latitude| longitude|                name|            features|prediction|\n",
      "+----------+----------+--------------------+--------------------+----------+\n",
      "|-27.474992|153.037647|130 - O'CONNELL S...|[-27.474992,153.0...|         0|\n",
      "|-27.479004|153.028853|19 - GARDENS POIN...|[-27.479004,153.0...|         0|\n",
      "|-27.474011|153.014541|99 - CORDELIA ST ...|[-27.474011,153.0...|         1|\n",
      "| -27.47019|153.025852|15 - ALBERT STREE...|[-27.47019,153.02...|         0|\n",
      "|-27.459833|153.033445|49 - ANN STREET /...|[-27.459833,153.0...|         0|\n",
      "|-27.485078|153.002382|108 - ROGERS ST /...|[-27.485078,153.0...|         1|\n",
      "|-27.448074|153.045762|76 - WATERLOO ST ...|[-27.448074,153.0...|         0|\n",
      "|-27.489807|153.002405|106 - ORLEIGH ST ...|[-27.489807,153.0...|         1|\n",
      "|-27.483259|153.026946|121 - VULTURE ST ...|[-27.483259,153.0...|         1|\n",
      "|-27.492489|152.996768|148 - SANDFORD ST...|[-27.492489,152.9...|         1|\n",
      "|-27.480164|153.016181|113 - EDMONDSTONE...|[-27.480164,153.0...|         1|\n",
      "|-27.468839|153.011115|133 - CORONATION ...|[-27.468839,153.0...|         1|\n",
      "|-27.482081|152.995804|142 - SYLVAN RD /...|[-27.482081,152.9...|         1|\n",
      "|-27.461803|153.036021|53 - BOWEN TCE / ...|[-27.461803,153.0...|         0|\n",
      "|-27.469296|153.035533|90 - MAIN ST / RO...|[-27.469296,153.0...|         0|\n",
      "|-27.493626|153.001482|149 - MACQUARIE S...|[-27.493626,153.0...|         1|\n",
      "|-27.458641| 153.03208|50 - GIPPS ST / W...|[-27.458641,153.0...|         0|\n",
      "|-27.466753|153.020012|33 - ROMA ST / HE...|[-27.466753,153.0...|         0|\n",
      "|-27.468407|153.048273|83 - SYDNEY ST / ...|[-27.468407,153.0...|         0|\n",
      "|-27.492876|153.006071|150 - MACQUARIE S...|[-27.492876,153.0...|         1|\n",
      "+----------+----------+--------------------+--------------------+----------+\n",
      "only showing top 20 rows\n",
      "\n"
     ]
    }
   ],
   "source": [
    "transformed = model.transform(new_df).cache()\n",
    "transformed.show()"
   ]
  },
  {
   "cell_type": "code",
   "execution_count": 88,
   "metadata": {},
   "outputs": [
    {
     "name": "stdout",
     "output_type": "stream",
     "text": [
      "Silhouette with squared euclidean distance = 0.6555267089340288\n"
     ]
    }
   ],
   "source": [
    "from pyspark.ml.evaluation import ClusteringEvaluator\n",
    "# Evaluate clustering by computing Silhouette score\n",
    "evaluator = ClusteringEvaluator()\n",
    "silhouette = evaluator.evaluate(transformed)\n",
    "print(\"Silhouette with squared euclidean distance = \" + str(silhouette))"
   ]
  },
  {
   "cell_type": "code",
   "execution_count": 89,
   "metadata": {},
   "outputs": [],
   "source": [
    "#computing the coordinates of cluster centers\n",
    "centers = model.clusterCenters()"
   ]
  },
  {
   "cell_type": "code",
   "execution_count": 90,
   "metadata": {},
   "outputs": [
    {
     "name": "stdout",
     "output_type": "stream",
     "text": [
      "[-27.46494911 153.03505678]\n",
      "[-27.48022273 153.01108756]\n"
     ]
    }
   ],
   "source": [
    "for c in centers : \n",
    "  print(c)"
   ]
  },
  {
   "cell_type": "code",
   "execution_count": 91,
   "metadata": {},
   "outputs": [],
   "source": [
    "# plotting the cost \n",
    "import numpy as np\n",
    "cost = np.zeros(20)\n",
    "for k in range(2,20):\n",
    "    kmeans = KMeans().setK(k).setSeed(1).setFeaturesCol(\"features\")\n",
    "    model = kmeans.fit(new_df)\n",
    "    cost[k] = model.summary.trainingCost"
   ]
  },
  {
   "cell_type": "code",
   "execution_count": 92,
   "metadata": {},
   "outputs": [
    {
     "data": {
      "text/plain": [
       "Text(0, 0.5, 'cost')"
      ]
     },
     "execution_count": 92,
     "metadata": {},
     "output_type": "execute_result"
    },
    {
     "data": {
      "image/png": "[encoded data removed]",
      "text/plain": [
       "<Figure size 576x432 with 1 Axes>"
      ]
     },
     "metadata": {
      "needs_background": "light"
     },
     "output_type": "display_data"
    }
   ],
   "source": [
    "fig, ax = plt.subplots(1,1, figsize =(8,6))\n",
    "ax.plot(range(2,20),cost[2:20])\n",
    "ax.set_xlabel('k')\n",
    "ax.set_ylabel('cost')"
   ]
  },
  {
   "cell_type": "markdown",
   "metadata": {},
   "source": [
    "##### --> With 2 clusters we have the best categorizing by considering Silhouette value. I Started with 10 clusters.\n",
    "#### Silhouette with squared euclidean distance = 0.4885416627878881 (with 10 clusters)\n",
    "#### Silhouette with squared euclidean distance = 0.5078526719305728 (with 6 clusters)\n",
    "#### Silhouette with squared euclidean distance = 0.5504549954951903 (with 5 clusters)\n",
    "#### Silhouette with squared euclidean distance = 0.5339471581545366 (with 4 clusters)\n",
    "#### Silhouette with squared euclidean distance = 0.588169797378973   (with 3 clusters)\n",
    "#### Silhouette with squared euclidean distance = 0.6436603521214308 (with 2 clusters)\n"
   ]
  },
  {
   "cell_type": "code",
   "execution_count": null,
   "metadata": {},
   "outputs": [],
   "source": []
  }
 ],
 "metadata": {
  "kernelspec": {
   "display_name": "Python 3",
   "language": "python",
   "name": "python3"
  },
  "language_info": {
   "codemirror_mode": {
    "name": "ipython",
    "version": 3
   },
   "file_extension": ".py",
   "mimetype": "text/x-python",
   "name": "python",
   "nbconvert_exporter": "python",
   "pygments_lexer": "ipython3",
   "version": "3.8.5"
  }
 },
 "nbformat": 4,
 "nbformat_minor": 4
}
